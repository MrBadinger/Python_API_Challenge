{
 "cells": [
  {
   "cell_type": "markdown",
   "metadata": {},
   "source": [
    "# WeatherPy\n",
    "----\n",
    "\n",
    "#### Note\n",
    "* Instructions have been included for each segment. You do not have to follow them exactly, but they are included to help you think through the steps."
   ]
  },
  {
   "cell_type": "code",
   "execution_count": 1,
   "metadata": {
    "scrolled": true
   },
   "outputs": [],
   "source": [
    "import matplotlib.pyplot as plt\n",
    "import pandas as pd\n",
    "import scipy.stats as st\n",
    "import numpy as np\n",
    "from scipy.stats import linregress\n",
    "import requests\n",
    "import json\n",
    "from api_keys import weather_api_key\n",
    "from citipy import citipy\n",
    "import random\n",
    "import decimal\n",
    "import time"
   ]
  },
  {
   "cell_type": "markdown",
   "metadata": {},
   "source": [
    "## Generate Cities List"
   ]
  },
  {
   "cell_type": "code",
   "execution_count": 148,
   "metadata": {},
   "outputs": [
    {
     "name": "stdout",
     "output_type": "stream",
     "text": [
      "Total number of unique cities in weather dataframe is: 922\n"
     ]
    }
   ],
   "source": [
    "#set up latitude and longitude lists\n",
    "latitude_list = []\n",
    "longitude_list = []\n",
    "\n",
    "# Generate 1000 random latitude and logitude values and add them to there respective list\n",
    "for x in range(0, 2500):\n",
    "    latitude = float(decimal.Decimal(random.randrange(-9000, 9000))/100)\n",
    "    longitude = float(decimal.Decimal(random.randrange(-18000, 18000))/100)\n",
    "    latitude_list.append(latitude)\n",
    "    longitude_list.append(longitude)\n",
    "\n",
    "# Set up the Weather DF\n",
    "weather_df = pd.DataFrame({\"Latitude\": latitude_list, \"Longitude\": longitude_list})\n",
    "\n",
    "# set up list to hold city names and what there country there from\n",
    "city_list = []\n",
    "country_list = []\n",
    "\n",
    "# goes through each value of Latitude and Longitude in the Weather DF and uses the value as inputs to determin there city and country\n",
    "for a in range(0, len(weather_df[\"Latitude\"])):\n",
    "    lat_value = weather_df.iloc[a][\"Latitude\"]\n",
    "    long_value = weather_df.iloc[a][\"Longitude\"]    \n",
    "    city_cord = citipy.nearest_city(lat_value, long_value)\n",
    "    city_name = city_cord.city_name\n",
    "    city_list.append(city_name)\n",
    "    country = city_cord.country_code\n",
    "    country_list.append(country)\n",
    "\n",
    "    \n",
    "# adds the city and country lists into our weather data frame, and then a touch of formatting   \n",
    "weather_df[\"City\"] = city_list\n",
    "weather_df[\"Country\"] = country_list\n",
    "weather_df[\"City\"] = weather_df[\"City\"].str.title()\n",
    "weather_df[\"Country\"] = weather_df[\"Country\"].str.upper()\n",
    "\n",
    "\n",
    "#drop duplicates duplicates\n",
    "weather_df = weather_df.drop_duplicates(subset=[\"City\", \"Country\"], keep=\"first\")\n",
    "weather_df = weather_df.reset_index(drop=True)\n",
    "\n",
    "print(\"Total number of unique cities in weather dataframe is: \" + str(len(weather_df.index)))\n"
   ]
  },
  {
   "cell_type": "markdown",
   "metadata": {},
   "source": [
    "### Perform API Calls\n",
    "* Perform a weather check on each city using a series of successive API calls.\n",
    "* Include a print log of each city as it'sbeing processed (with the city number and city name).\n"
   ]
  },
  {
   "cell_type": "code",
   "execution_count": 157,
   "metadata": {
    "scrolled": true
   },
   "outputs": [
    {
     "name": "stdout",
     "output_type": "stream",
     "text": [
      "Currently on 1 out of 922\n",
      "http://api.openweathermap.org/data/2.5/weather?appid=b25308977725b83101693dd059c4f501&q=Medicine+Hat&units=imperial\n",
      "\n",
      "Currently on 2 out of 922\n",
      "http://api.openweathermap.org/data/2.5/weather?appid=b25308977725b83101693dd059c4f501&q=Saskatoon&units=imperial\n",
      "\n",
      "Currently on 3 out of 922\n",
      "http://api.openweathermap.org/data/2.5/weather?appid=b25308977725b83101693dd059c4f501&q=Kodiak&units=imperial\n",
      "\n",
      "Currently on 4 out of 922\n",
      "http://api.openweathermap.org/data/2.5/weather?appid=b25308977725b83101693dd059c4f501&q=Narsaq&units=imperial\n",
      "\n",
      "Currently on 5 out of 922\n",
      "http://api.openweathermap.org/data/2.5/weather?appid=b25308977725b83101693dd059c4f501&q=Sitka&units=imperial\n",
      "\n",
      "[14.38, 24.19, 48.2, 42.8, 41]\n",
      "[14.38, 24.19, 48.2, 42.8, 41]\n",
      "[14.38, 24.19, 48.2, 42.8, 41]\n",
      "[14.38, 24.19, 48.2, 42.8, 41]\n",
      "[1603670478, 1603670585, 1603670595, 1603670595, 1603670309]\n"
     ]
    }
   ],
   "source": [
    "# Set up list for variables we want\n",
    "temperature_list = [] \n",
    "humidity_list = []\n",
    "cloudiness_list = []\n",
    "wind_speed_list = []\n",
    "date_list = []\n",
    "# Base URL before adding variable componets\n",
    "url = \"http://api.openweathermap.org/data/2.5/weather?\"\n",
    "\n",
    "    \n",
    "\n",
    "for target in range(0, 5): #(0, len(weather_df[\"City\"])):\n",
    "    \n",
    "    # Select city on weather DF, and formate for proper url code in event city has spaces in name\n",
    "    target_city = weather_df.iloc[target][\"City\"]\n",
    "    target_city = target_city.replace(\" \",\"+\")\n",
    "    \n",
    "    # Build query URL\n",
    "    query_url = f\"{url}appid={weather_api_key}&q={target_city}&units=imperial\"\n",
    "    \n",
    "    # Use URL to make a request of information, bring back in the json format, and print URL\n",
    "    weather_response = requests.get(query_url)\n",
    "    weather_json = weather_response.json()\n",
    "    print(f\"Currently on {(target + 1)} out of {(len(weather_df.index))}\")\n",
    "    print(query_url)\n",
    "    print()\n",
    "    \n",
    "    # This will collect and store desired information, but if there is an error it will print a line and move on to next\n",
    "    try:\n",
    "        cities_temp = weather_json[\"main\"][\"temp\"]\n",
    "        temperature_list.append(cities_temp)\n",
    "        cities_humid = weather_json[\"main\"][\"humidity\"]\n",
    "        humidity_list.append(cities_temp)\n",
    "        cities_cloud = weather_json[\"clouds\"][\"all\"]\n",
    "        cloudiness_list.append(cities_temp)\n",
    "        cities_wind = weather_json[\"wind\"][\"speed\"]\n",
    "        wind_speed_list.append(cities_temp)\n",
    "        cities_date = weather_json[\"dt\"]\n",
    "        date_list.append(cities_date)\n",
    "    except:\n",
    "        print(\"I'm afraid I can't do that Dave. Let's try the next city.\")\n",
    "    \n",
    "    # Add a sleep timer to prevent my API requests from going over 60 per min and causing a 1 hour lock out.\n",
    "    time.sleep(1) # in seconds\n",
    "\n"
   ]
  },
  {
   "cell_type": "markdown",
   "metadata": {},
   "source": [
    "### Convert Raw Data to DataFrame\n",
    "* Export the city data into a .csv.\n",
    "* Display the DataFrame"
   ]
  },
  {
   "cell_type": "code",
   "execution_count": null,
   "metadata": {},
   "outputs": [],
   "source": []
  },
  {
   "cell_type": "code",
   "execution_count": null,
   "metadata": {},
   "outputs": [],
   "source": []
  },
  {
   "cell_type": "markdown",
   "metadata": {},
   "source": [
    "## Inspect the data and remove the cities where the humidity > 100%.\n",
    "----\n",
    "Skip this step if there are no cities that have humidity > 100%. "
   ]
  },
  {
   "cell_type": "code",
   "execution_count": null,
   "metadata": {},
   "outputs": [],
   "source": []
  },
  {
   "cell_type": "code",
   "execution_count": 3,
   "metadata": {},
   "outputs": [],
   "source": [
    "#  Get the indices of cities that have humidity over 100%.\n"
   ]
  },
  {
   "cell_type": "code",
   "execution_count": 4,
   "metadata": {},
   "outputs": [],
   "source": [
    "# Make a new DataFrame equal to the city data to drop all humidity outliers by index.\n",
    "# Passing \"inplace=False\" will make a copy of the city_data DataFrame, which we call \"clean_city_data\".\n"
   ]
  },
  {
   "cell_type": "code",
   "execution_count": null,
   "metadata": {},
   "outputs": [],
   "source": [
    "\n"
   ]
  },
  {
   "cell_type": "markdown",
   "metadata": {},
   "source": [
    "## Plotting the Data\n",
    "* Use proper labeling of the plots using plot titles (including date of analysis) and axes labels.\n",
    "* Save the plotted figures as .pngs."
   ]
  },
  {
   "cell_type": "markdown",
   "metadata": {},
   "source": [
    "## Latitude vs. Temperature Plot"
   ]
  },
  {
   "cell_type": "code",
   "execution_count": null,
   "metadata": {
    "scrolled": true
   },
   "outputs": [],
   "source": []
  },
  {
   "cell_type": "markdown",
   "metadata": {},
   "source": [
    "## Latitude vs. Humidity Plot"
   ]
  },
  {
   "cell_type": "code",
   "execution_count": null,
   "metadata": {},
   "outputs": [],
   "source": []
  },
  {
   "cell_type": "markdown",
   "metadata": {},
   "source": [
    "## Latitude vs. Cloudiness Plot"
   ]
  },
  {
   "cell_type": "code",
   "execution_count": null,
   "metadata": {},
   "outputs": [],
   "source": []
  },
  {
   "cell_type": "markdown",
   "metadata": {},
   "source": [
    "## Latitude vs. Wind Speed Plot"
   ]
  },
  {
   "cell_type": "code",
   "execution_count": null,
   "metadata": {},
   "outputs": [],
   "source": []
  },
  {
   "cell_type": "markdown",
   "metadata": {},
   "source": [
    "## Linear Regression"
   ]
  },
  {
   "cell_type": "code",
   "execution_count": null,
   "metadata": {},
   "outputs": [],
   "source": []
  },
  {
   "cell_type": "markdown",
   "metadata": {},
   "source": [
    "####  Northern Hemisphere - Max Temp vs. Latitude Linear Regression"
   ]
  },
  {
   "cell_type": "code",
   "execution_count": null,
   "metadata": {},
   "outputs": [],
   "source": []
  },
  {
   "cell_type": "markdown",
   "metadata": {},
   "source": [
    "####  Southern Hemisphere - Max Temp vs. Latitude Linear Regression"
   ]
  },
  {
   "cell_type": "code",
   "execution_count": null,
   "metadata": {},
   "outputs": [],
   "source": []
  },
  {
   "cell_type": "markdown",
   "metadata": {},
   "source": [
    "####  Northern Hemisphere - Humidity (%) vs. Latitude Linear Regression"
   ]
  },
  {
   "cell_type": "code",
   "execution_count": null,
   "metadata": {},
   "outputs": [],
   "source": []
  },
  {
   "cell_type": "markdown",
   "metadata": {},
   "source": [
    "####  Southern Hemisphere - Humidity (%) vs. Latitude Linear Regression"
   ]
  },
  {
   "cell_type": "code",
   "execution_count": null,
   "metadata": {},
   "outputs": [],
   "source": []
  },
  {
   "cell_type": "markdown",
   "metadata": {},
   "source": [
    "####  Northern Hemisphere - Cloudiness (%) vs. Latitude Linear Regression"
   ]
  },
  {
   "cell_type": "code",
   "execution_count": null,
   "metadata": {},
   "outputs": [],
   "source": []
  },
  {
   "cell_type": "markdown",
   "metadata": {},
   "source": [
    "####  Southern Hemisphere - Cloudiness (%) vs. Latitude Linear Regression"
   ]
  },
  {
   "cell_type": "code",
   "execution_count": null,
   "metadata": {},
   "outputs": [],
   "source": []
  },
  {
   "cell_type": "markdown",
   "metadata": {},
   "source": [
    "####  Northern Hemisphere - Wind Speed (mph) vs. Latitude Linear Regression"
   ]
  },
  {
   "cell_type": "code",
   "execution_count": null,
   "metadata": {},
   "outputs": [],
   "source": []
  },
  {
   "cell_type": "markdown",
   "metadata": {},
   "source": [
    "####  Southern Hemisphere - Wind Speed (mph) vs. Latitude Linear Regression"
   ]
  },
  {
   "cell_type": "code",
   "execution_count": null,
   "metadata": {},
   "outputs": [],
   "source": []
  },
  {
   "cell_type": "code",
   "execution_count": null,
   "metadata": {},
   "outputs": [],
   "source": []
  },
  {
   "cell_type": "code",
   "execution_count": null,
   "metadata": {},
   "outputs": [],
   "source": []
  }
 ],
 "metadata": {
  "anaconda-cloud": {},
  "kernel_info": {
   "name": "python3"
  },
  "kernelspec": {
   "display_name": "Python 3",
   "language": "python",
   "name": "python3"
  },
  "language_info": {
   "codemirror_mode": {
    "name": "ipython",
    "version": 3
   },
   "file_extension": ".py",
   "mimetype": "text/x-python",
   "name": "python",
   "nbconvert_exporter": "python",
   "pygments_lexer": "ipython3",
   "version": "3.8.3"
  },
  "latex_envs": {
   "LaTeX_envs_menu_present": true,
   "autoclose": false,
   "autocomplete": true,
   "bibliofile": "biblio.bib",
   "cite_by": "apalike",
   "current_citInitial": 1,
   "eqLabelWithNumbers": true,
   "eqNumInitial": 1,
   "hotkeys": {
    "equation": "Ctrl-E",
    "itemize": "Ctrl-I"
   },
   "labels_anchors": false,
   "latex_user_defs": false,
   "report_style_numbering": false,
   "user_envs_cfg": false
  },
  "nteract": {
   "version": "0.12.3"
  }
 },
 "nbformat": 4,
 "nbformat_minor": 2
}
