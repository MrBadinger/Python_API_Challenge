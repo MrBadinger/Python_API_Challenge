{
 "cells": [
  {
   "cell_type": "markdown",
   "metadata": {},
   "source": [
    "# VacationPy\n",
    "----\n",
    "\n",
    "#### Note\n",
    "* Keep an eye on your API usage. Use https://developers.google.com/maps/reporting/gmp-reporting as reference for how to monitor your usage and billing.\n",
    "\n",
    "* Instructions have been included for each segment. You do not have to follow them exactly, but they are included to help you think through the steps."
   ]
  },
  {
   "cell_type": "code",
   "execution_count": 1,
   "metadata": {},
   "outputs": [],
   "source": [
    "# Dependencies and Setup\n",
    "import matplotlib.pyplot as plt\n",
    "import pandas as pd\n",
    "import numpy as np\n",
    "import requests\n",
    "import gmaps\n",
    "import os\n",
    "\n",
    "# Import API key\n",
    "from api_keys import g_key\n"
   ]
  },
  {
   "cell_type": "markdown",
   "metadata": {},
   "source": [
    "### Store Part I results into DataFrame\n",
    "* Load the csv exported in Part I to a DataFrame"
   ]
  },
  {
   "cell_type": "code",
   "execution_count": 2,
   "metadata": {},
   "outputs": [
    {
     "data": {
      "text/html": [
       "<div>\n",
       "<style scoped>\n",
       "    .dataframe tbody tr th:only-of-type {\n",
       "        vertical-align: middle;\n",
       "    }\n",
       "\n",
       "    .dataframe tbody tr th {\n",
       "        vertical-align: top;\n",
       "    }\n",
       "\n",
       "    .dataframe thead th {\n",
       "        text-align: right;\n",
       "    }\n",
       "</style>\n",
       "<table border=\"1\" class=\"dataframe\">\n",
       "  <thead>\n",
       "    <tr style=\"text-align: right;\">\n",
       "      <th></th>\n",
       "      <th>Latitude</th>\n",
       "      <th>Longitude</th>\n",
       "      <th>City</th>\n",
       "      <th>Country</th>\n",
       "      <th>Temperature (F)</th>\n",
       "      <th>Humidity (%)</th>\n",
       "      <th>Cloud Cover (%)</th>\n",
       "      <th>Wind Speed (MPH)</th>\n",
       "      <th>Date (UTC)</th>\n",
       "    </tr>\n",
       "  </thead>\n",
       "  <tbody>\n",
       "    <tr>\n",
       "      <th>0</th>\n",
       "      <td>-49.34</td>\n",
       "      <td>71.83</td>\n",
       "      <td>Souillac</td>\n",
       "      <td>MU</td>\n",
       "      <td>78.80</td>\n",
       "      <td>65</td>\n",
       "      <td>75</td>\n",
       "      <td>19.46</td>\n",
       "      <td>1603694057</td>\n",
       "    </tr>\n",
       "    <tr>\n",
       "      <th>1</th>\n",
       "      <td>-63.69</td>\n",
       "      <td>-12.97</td>\n",
       "      <td>Cape Town</td>\n",
       "      <td>ZA</td>\n",
       "      <td>66.11</td>\n",
       "      <td>72</td>\n",
       "      <td>0</td>\n",
       "      <td>4.70</td>\n",
       "      <td>1603694058</td>\n",
       "    </tr>\n",
       "    <tr>\n",
       "      <th>2</th>\n",
       "      <td>26.90</td>\n",
       "      <td>-45.04</td>\n",
       "      <td>Codrington</td>\n",
       "      <td>AG</td>\n",
       "      <td>56.26</td>\n",
       "      <td>71</td>\n",
       "      <td>0</td>\n",
       "      <td>21.97</td>\n",
       "      <td>1603694059</td>\n",
       "    </tr>\n",
       "    <tr>\n",
       "      <th>3</th>\n",
       "      <td>-50.16</td>\n",
       "      <td>-121.36</td>\n",
       "      <td>Rikitea</td>\n",
       "      <td>PF</td>\n",
       "      <td>75.06</td>\n",
       "      <td>84</td>\n",
       "      <td>100</td>\n",
       "      <td>19.33</td>\n",
       "      <td>1603694060</td>\n",
       "    </tr>\n",
       "    <tr>\n",
       "      <th>4</th>\n",
       "      <td>46.39</td>\n",
       "      <td>-62.78</td>\n",
       "      <td>Montague</td>\n",
       "      <td>CA</td>\n",
       "      <td>41.47</td>\n",
       "      <td>79</td>\n",
       "      <td>100</td>\n",
       "      <td>2.21</td>\n",
       "      <td>1603694061</td>\n",
       "    </tr>\n",
       "    <tr>\n",
       "      <th>...</th>\n",
       "      <td>...</td>\n",
       "      <td>...</td>\n",
       "      <td>...</td>\n",
       "      <td>...</td>\n",
       "      <td>...</td>\n",
       "      <td>...</td>\n",
       "      <td>...</td>\n",
       "      <td>...</td>\n",
       "      <td>...</td>\n",
       "    </tr>\n",
       "    <tr>\n",
       "      <th>846</th>\n",
       "      <td>45.43</td>\n",
       "      <td>30.89</td>\n",
       "      <td>Zatoka</td>\n",
       "      <td>UA</td>\n",
       "      <td>60.40</td>\n",
       "      <td>87</td>\n",
       "      <td>90</td>\n",
       "      <td>11.18</td>\n",
       "      <td>1603695342</td>\n",
       "    </tr>\n",
       "    <tr>\n",
       "      <th>847</th>\n",
       "      <td>-27.14</td>\n",
       "      <td>178.65</td>\n",
       "      <td>Russell</td>\n",
       "      <td>NZ</td>\n",
       "      <td>66.76</td>\n",
       "      <td>93</td>\n",
       "      <td>75</td>\n",
       "      <td>3.27</td>\n",
       "      <td>1603695343</td>\n",
       "    </tr>\n",
       "    <tr>\n",
       "      <th>848</th>\n",
       "      <td>41.50</td>\n",
       "      <td>144.46</td>\n",
       "      <td>Kushiro</td>\n",
       "      <td>JP</td>\n",
       "      <td>57.20</td>\n",
       "      <td>50</td>\n",
       "      <td>75</td>\n",
       "      <td>5.82</td>\n",
       "      <td>1603695344</td>\n",
       "    </tr>\n",
       "    <tr>\n",
       "      <th>849</th>\n",
       "      <td>59.97</td>\n",
       "      <td>71.18</td>\n",
       "      <td>Salym</td>\n",
       "      <td>RU</td>\n",
       "      <td>31.82</td>\n",
       "      <td>98</td>\n",
       "      <td>100</td>\n",
       "      <td>6.06</td>\n",
       "      <td>1603695345</td>\n",
       "    </tr>\n",
       "    <tr>\n",
       "      <th>850</th>\n",
       "      <td>-31.17</td>\n",
       "      <td>-59.10</td>\n",
       "      <td>Concordia</td>\n",
       "      <td>AR</td>\n",
       "      <td>66.99</td>\n",
       "      <td>98</td>\n",
       "      <td>100</td>\n",
       "      <td>1.99</td>\n",
       "      <td>1603695053</td>\n",
       "    </tr>\n",
       "  </tbody>\n",
       "</table>\n",
       "<p>851 rows × 9 columns</p>\n",
       "</div>"
      ],
      "text/plain": [
       "     Latitude  Longitude        City Country  Temperature (F)  Humidity (%)  \\\n",
       "0      -49.34      71.83    Souillac      MU            78.80            65   \n",
       "1      -63.69     -12.97   Cape Town      ZA            66.11            72   \n",
       "2       26.90     -45.04  Codrington      AG            56.26            71   \n",
       "3      -50.16    -121.36     Rikitea      PF            75.06            84   \n",
       "4       46.39     -62.78    Montague      CA            41.47            79   \n",
       "..        ...        ...         ...     ...              ...           ...   \n",
       "846     45.43      30.89      Zatoka      UA            60.40            87   \n",
       "847    -27.14     178.65     Russell      NZ            66.76            93   \n",
       "848     41.50     144.46     Kushiro      JP            57.20            50   \n",
       "849     59.97      71.18       Salym      RU            31.82            98   \n",
       "850    -31.17     -59.10   Concordia      AR            66.99            98   \n",
       "\n",
       "     Cloud Cover (%)  Wind Speed (MPH)  Date (UTC)  \n",
       "0                 75             19.46  1603694057  \n",
       "1                  0              4.70  1603694058  \n",
       "2                  0             21.97  1603694059  \n",
       "3                100             19.33  1603694060  \n",
       "4                100              2.21  1603694061  \n",
       "..               ...               ...         ...  \n",
       "846               90             11.18  1603695342  \n",
       "847               75              3.27  1603695343  \n",
       "848               75              5.82  1603695344  \n",
       "849              100              6.06  1603695345  \n",
       "850              100              1.99  1603695053  \n",
       "\n",
       "[851 rows x 9 columns]"
      ]
     },
     "execution_count": 2,
     "metadata": {},
     "output_type": "execute_result"
    }
   ],
   "source": [
    "# Importing city data generated in WeatherPy\n",
    "city_data_path = \"../WeatherPy/weather_data.csv\"\n",
    "city_data_read = pd.read_csv(city_data_path)\n",
    "city_data_cleand_df = city_data_read.drop(columns=[\"Unnamed: 0\"])\n",
    "city_data_cleand_df"
   ]
  },
  {
   "cell_type": "markdown",
   "metadata": {},
   "source": [
    "### Humidity Heatmap\n",
    "* Configure gmaps.\n",
    "* Use the Lat and Lng as locations and Humidity as the weight.\n",
    "* Add Heatmap layer to map."
   ]
  },
  {
   "cell_type": "code",
   "execution_count": 3,
   "metadata": {},
   "outputs": [],
   "source": [
    "#Store latitude and longitude locations\n",
    "city_locations = city_data_cleand_df[[\"Latitude\", \"Longitude\"]].astype(float)\n",
    "city_humidity = city_data_cleand_df[\"Humidity (%)\"].astype(float)"
   ]
  },
  {
   "cell_type": "code",
   "execution_count": 4,
   "metadata": {},
   "outputs": [
    {
     "data": {
      "application/vnd.jupyter.widget-view+json": {
       "model_id": "0c9f4802b04f4c92b9fed734c79127f1",
       "version_major": 2,
       "version_minor": 0
      },
      "text/plain": [
       "Figure(layout=FigureLayout(height='420px'))"
      ]
     },
     "metadata": {},
     "output_type": "display_data"
    }
   ],
   "source": [
    "# Configure gmaps\n",
    "# gmaps.configure(api_key=g_key)\n",
    "gmaps.configure(g_key)\n",
    "\n",
    "\n",
    "# Develop figure for heatmap\n",
    "city_humid_fig = gmaps.figure()\n",
    "\n",
    "# Develop heat layer for humidity\n",
    "# city_humid_layer = gmaps.heatmap_layer(city_locations, weights=city_humidity, \n",
    "#                                  dissipating=False, max_intensity=10,\n",
    "#                                  point_radius=1)\n",
    "\n",
    "\n",
    "city_humid_layer = gmaps.heatmap_layer(city_locations) \n",
    "                                 #dissipating=False, max_intensity=10,\n",
    "                                 #point_radius=1)\n",
    "\n",
    "\n",
    "\n",
    "\n",
    "# Add heat layer for humidity\n",
    "city_humid_fig.add_layer(city_humid_layer)\n",
    "\n",
    "# Display figure\n",
    "city_humid_fig"
   ]
  },
  {
   "cell_type": "markdown",
   "metadata": {},
   "source": [
    "### Create new DataFrame fitting weather criteria\n",
    "* Narrow down the cities to fit weather conditions.\n",
    "* Drop any rows will null values."
   ]
  },
  {
   "cell_type": "code",
   "execution_count": null,
   "metadata": {},
   "outputs": [],
   "source": []
  },
  {
   "cell_type": "markdown",
   "metadata": {},
   "source": [
    "### Hotel Map\n",
    "* Store into variable named `hotel_df`.\n",
    "* Add a \"Hotel Name\" column to the DataFrame.\n",
    "* Set parameters to search for hotels with 5000 meters.\n",
    "* Hit the Google Places API for each city's coordinates.\n",
    "* Store the first Hotel result into the DataFrame.\n",
    "* Plot markers on top of the heatmap."
   ]
  },
  {
   "cell_type": "code",
   "execution_count": null,
   "metadata": {},
   "outputs": [],
   "source": []
  },
  {
   "cell_type": "code",
   "execution_count": null,
   "metadata": {},
   "outputs": [],
   "source": []
  },
  {
   "cell_type": "code",
   "execution_count": 5,
   "metadata": {},
   "outputs": [
    {
     "ename": "NameError",
     "evalue": "name 'hotel_df' is not defined",
     "output_type": "error",
     "traceback": [
      "\u001b[1;31m---------------------------------------------------------------------------\u001b[0m",
      "\u001b[1;31mNameError\u001b[0m                                 Traceback (most recent call last)",
      "\u001b[1;32m<ipython-input-5-464b2b3e63ad>\u001b[0m in \u001b[0;36m<module>\u001b[1;34m\u001b[0m\n\u001b[0;32m     11\u001b[0m \u001b[1;31m# Store the DataFrame Row\u001b[0m\u001b[1;33m\u001b[0m\u001b[1;33m\u001b[0m\u001b[1;33m\u001b[0m\u001b[0m\n\u001b[0;32m     12\u001b[0m \u001b[1;31m# NOTE: be sure to update with your DataFrame name\u001b[0m\u001b[1;33m\u001b[0m\u001b[1;33m\u001b[0m\u001b[1;33m\u001b[0m\u001b[0m\n\u001b[1;32m---> 13\u001b[1;33m \u001b[0mhotel_info\u001b[0m \u001b[1;33m=\u001b[0m \u001b[1;33m[\u001b[0m\u001b[0minfo_box_template\u001b[0m\u001b[1;33m.\u001b[0m\u001b[0mformat\u001b[0m\u001b[1;33m(\u001b[0m\u001b[1;33m**\u001b[0m\u001b[0mrow\u001b[0m\u001b[1;33m)\u001b[0m \u001b[1;32mfor\u001b[0m \u001b[0mindex\u001b[0m\u001b[1;33m,\u001b[0m \u001b[0mrow\u001b[0m \u001b[1;32min\u001b[0m \u001b[0mhotel_df\u001b[0m\u001b[1;33m.\u001b[0m\u001b[0miterrows\u001b[0m\u001b[1;33m(\u001b[0m\u001b[1;33m)\u001b[0m\u001b[1;33m]\u001b[0m\u001b[1;33m\u001b[0m\u001b[1;33m\u001b[0m\u001b[0m\n\u001b[0m\u001b[0;32m     14\u001b[0m \u001b[0mlocations\u001b[0m \u001b[1;33m=\u001b[0m \u001b[0mhotel_df\u001b[0m\u001b[1;33m[\u001b[0m\u001b[1;33m[\u001b[0m\u001b[1;34m\"Lat\"\u001b[0m\u001b[1;33m,\u001b[0m \u001b[1;34m\"Lng\"\u001b[0m\u001b[1;33m]\u001b[0m\u001b[1;33m]\u001b[0m\u001b[1;33m\u001b[0m\u001b[1;33m\u001b[0m\u001b[0m\n",
      "\u001b[1;31mNameError\u001b[0m: name 'hotel_df' is not defined"
     ]
    }
   ],
   "source": [
    "# NOTE: Do not change any of the code in this cell\n",
    "\n",
    "# Using the template add the hotel marks to the heatmap\n",
    "info_box_template = \"\"\"\n",
    "<dl>\n",
    "<dt>Name</dt><dd>{Hotel Name}</dd>\n",
    "<dt>City</dt><dd>{City}</dd>\n",
    "<dt>Country</dt><dd>{Country}</dd>\n",
    "</dl>\n",
    "\"\"\"\n",
    "# Store the DataFrame Row\n",
    "# NOTE: be sure to update with your DataFrame name\n",
    "hotel_info = [info_box_template.format(**row) for index, row in hotel_df.iterrows()]\n",
    "locations = hotel_df[[\"Lat\", \"Lng\"]]"
   ]
  },
  {
   "cell_type": "code",
   "execution_count": null,
   "metadata": {},
   "outputs": [],
   "source": [
    "# Add marker layer ontop of heat map\n",
    "\n",
    "\n",
    "# Display figure\n"
   ]
  },
  {
   "cell_type": "code",
   "execution_count": null,
   "metadata": {},
   "outputs": [],
   "source": []
  }
 ],
 "metadata": {
  "kernelspec": {
   "display_name": "Python 3",
   "language": "python",
   "name": "python3"
  },
  "language_info": {
   "codemirror_mode": {
    "name": "ipython",
    "version": 3
   },
   "file_extension": ".py",
   "mimetype": "text/x-python",
   "name": "python",
   "nbconvert_exporter": "python",
   "pygments_lexer": "ipython3",
   "version": "3.6.10"
  },
  "latex_envs": {
   "LaTeX_envs_menu_present": true,
   "autoclose": false,
   "autocomplete": true,
   "bibliofile": "biblio.bib",
   "cite_by": "apalike",
   "current_citInitial": 1,
   "eqLabelWithNumbers": true,
   "eqNumInitial": 1,
   "hotkeys": {
    "equation": "Ctrl-E",
    "itemize": "Ctrl-I"
   },
   "labels_anchors": false,
   "latex_user_defs": false,
   "report_style_numbering": false,
   "user_envs_cfg": false
  }
 },
 "nbformat": 4,
 "nbformat_minor": 4
}
